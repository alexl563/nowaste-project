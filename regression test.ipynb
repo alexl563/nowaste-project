{
 "metadata": {
  "language_info": {
   "codemirror_mode": {
    "name": "ipython",
    "version": 3
   },
   "file_extension": ".py",
   "mimetype": "text/x-python",
   "name": "python",
   "nbconvert_exporter": "python",
   "pygments_lexer": "ipython3",
   "version": 3
  },
  "orig_nbformat": 2,
  "kernelspec": {
   "name": "python_defaultSpec_1596702070199",
   "display_name": "Python 3.8.3 64-bit ('datasci': venv)"
  }
 },
 "nbformat": 4,
 "nbformat_minor": 2,
 "cells": [
  {
   "cell_type": "code",
   "execution_count": 5,
   "metadata": {},
   "outputs": [],
   "source": [
    "from flask import Flask, render_template\n",
    "import dash\n",
    "import dash_html_components as html\n",
    "import dash_core_components as dcc\n",
    "import plotly.express as px\n",
    "import pandas as pd\n",
    "import numpy as np\n",
    "from sklearn.linear_model import LinearRegression"
   ]
  },
  {
   "cell_type": "code",
   "execution_count": 15,
   "metadata": {},
   "outputs": [
    {
     "output_type": "execute_result",
     "data": {
      "text/plain": "   Year    Borough               District Name  Borough ID  District Number  \\\n0  2018  Manhattan          Financial District           1                1   \n1  2018  Manhattan             Chelsea/Clinton           1                4   \n2  2018  Manhattan  Stuyvesant Town/Turtle Bay           1                6   \n3  2018  Manhattan             Upper West Side           1                7   \n4  2018  Manhattan             Upper East Side           1                8   \n\n   Food waste in tons  Population  Food Waste per person  \\\n0               173.8      151979               0.001144   \n1               280.8      165452               0.001697   \n2               330.7      143582               0.002303   \n3               288.9      191222               0.001511   \n4               218.3      204469               0.001068   \n\n   Food waste per person in pounds Median Household Income  ...  \\\n0                         2.287158             150600.7979  ...   \n1                         3.394338             102750.7469  ...   \n2                         4.606427             137127.7231  ...   \n3                         3.021619             123835.5905  ...   \n4                         2.135287             123709.5409  ...   \n\n   Populationaged25withouthighschooldiploma  \\\n0                                  0.049312   \n1                                  0.048425   \n2                                  0.026701   \n3                                  0.057776   \n4                                  0.020145   \n\n   PercentagePopulationaged25withouthighschooldiploma  Income Diversity Index  \\\n0                                            4.93124                 6.504854   \n1                                            4.84253                 9.651852   \n2                                            2.67013                 8.042895   \n3                                            5.77757                 8.842105   \n4                                            2.01448                 5.553571   \n\n   Unemployment rate  PercentageUnemployment  RacialDiversityIndex  \\\n0           0.036574                 3.65743              0.445724   \n1           0.053144                 5.31443              0.584941   \n2           0.027413                 2.74129              0.497315   \n3           0.050923                 5.09233              0.499047   \n4           0.027460                 2.74598              0.406150   \n\n   Poverty Rate  PercentagePoverty  Householdswithchildrenunder18yearsold  \\\n0      0.066248            6.62483                               0.169700   \n1      0.111038           11.10380                               0.114626   \n2      0.078742            7.87418                               0.101177   \n3      0.084594            8.45944                               0.201193   \n4      0.054430            5.44296                               0.159944   \n\n   PercentageHouseholdswithchildrenunder18yearsold  \n0                                          16.9700  \n1                                          11.4626  \n2                                          10.1177  \n3                                          20.1193  \n4                                          15.9944  \n\n[5 rows x 24 columns]",
      "text/html": "<div>\n<style scoped>\n    .dataframe tbody tr th:only-of-type {\n        vertical-align: middle;\n    }\n\n    .dataframe tbody tr th {\n        vertical-align: top;\n    }\n\n    .dataframe thead th {\n        text-align: right;\n    }\n</style>\n<table border=\"1\" class=\"dataframe\">\n  <thead>\n    <tr style=\"text-align: right;\">\n      <th></th>\n      <th>Year</th>\n      <th>Borough</th>\n      <th>District Name</th>\n      <th>Borough ID</th>\n      <th>District Number</th>\n      <th>Food waste in tons</th>\n      <th>Population</th>\n      <th>Food Waste per person</th>\n      <th>Food waste per person in pounds</th>\n      <th>Median Household Income</th>\n      <th>...</th>\n      <th>Populationaged25withouthighschooldiploma</th>\n      <th>PercentagePopulationaged25withouthighschooldiploma</th>\n      <th>Income Diversity Index</th>\n      <th>Unemployment rate</th>\n      <th>PercentageUnemployment</th>\n      <th>RacialDiversityIndex</th>\n      <th>Poverty Rate</th>\n      <th>PercentagePoverty</th>\n      <th>Householdswithchildrenunder18yearsold</th>\n      <th>PercentageHouseholdswithchildrenunder18yearsold</th>\n    </tr>\n  </thead>\n  <tbody>\n    <tr>\n      <th>0</th>\n      <td>2018</td>\n      <td>Manhattan</td>\n      <td>Financial District</td>\n      <td>1</td>\n      <td>1</td>\n      <td>173.8</td>\n      <td>151979</td>\n      <td>0.001144</td>\n      <td>2.287158</td>\n      <td>150600.7979</td>\n      <td>...</td>\n      <td>0.049312</td>\n      <td>4.93124</td>\n      <td>6.504854</td>\n      <td>0.036574</td>\n      <td>3.65743</td>\n      <td>0.445724</td>\n      <td>0.066248</td>\n      <td>6.62483</td>\n      <td>0.169700</td>\n      <td>16.9700</td>\n    </tr>\n    <tr>\n      <th>1</th>\n      <td>2018</td>\n      <td>Manhattan</td>\n      <td>Chelsea/Clinton</td>\n      <td>1</td>\n      <td>4</td>\n      <td>280.8</td>\n      <td>165452</td>\n      <td>0.001697</td>\n      <td>3.394338</td>\n      <td>102750.7469</td>\n      <td>...</td>\n      <td>0.048425</td>\n      <td>4.84253</td>\n      <td>9.651852</td>\n      <td>0.053144</td>\n      <td>5.31443</td>\n      <td>0.584941</td>\n      <td>0.111038</td>\n      <td>11.10380</td>\n      <td>0.114626</td>\n      <td>11.4626</td>\n    </tr>\n    <tr>\n      <th>2</th>\n      <td>2018</td>\n      <td>Manhattan</td>\n      <td>Stuyvesant Town/Turtle Bay</td>\n      <td>1</td>\n      <td>6</td>\n      <td>330.7</td>\n      <td>143582</td>\n      <td>0.002303</td>\n      <td>4.606427</td>\n      <td>137127.7231</td>\n      <td>...</td>\n      <td>0.026701</td>\n      <td>2.67013</td>\n      <td>8.042895</td>\n      <td>0.027413</td>\n      <td>2.74129</td>\n      <td>0.497315</td>\n      <td>0.078742</td>\n      <td>7.87418</td>\n      <td>0.101177</td>\n      <td>10.1177</td>\n    </tr>\n    <tr>\n      <th>3</th>\n      <td>2018</td>\n      <td>Manhattan</td>\n      <td>Upper West Side</td>\n      <td>1</td>\n      <td>7</td>\n      <td>288.9</td>\n      <td>191222</td>\n      <td>0.001511</td>\n      <td>3.021619</td>\n      <td>123835.5905</td>\n      <td>...</td>\n      <td>0.057776</td>\n      <td>5.77757</td>\n      <td>8.842105</td>\n      <td>0.050923</td>\n      <td>5.09233</td>\n      <td>0.499047</td>\n      <td>0.084594</td>\n      <td>8.45944</td>\n      <td>0.201193</td>\n      <td>20.1193</td>\n    </tr>\n    <tr>\n      <th>4</th>\n      <td>2018</td>\n      <td>Manhattan</td>\n      <td>Upper East Side</td>\n      <td>1</td>\n      <td>8</td>\n      <td>218.3</td>\n      <td>204469</td>\n      <td>0.001068</td>\n      <td>2.135287</td>\n      <td>123709.5409</td>\n      <td>...</td>\n      <td>0.020145</td>\n      <td>2.01448</td>\n      <td>5.553571</td>\n      <td>0.027460</td>\n      <td>2.74598</td>\n      <td>0.406150</td>\n      <td>0.054430</td>\n      <td>5.44296</td>\n      <td>0.159944</td>\n      <td>15.9944</td>\n    </tr>\n  </tbody>\n</table>\n<p>5 rows × 24 columns</p>\n</div>"
     },
     "metadata": {},
     "execution_count": 15
    }
   ],
   "source": [
    "#creating multilinear regression model, phew uh oh\n",
    "df = pd.read_csv('C:\\\\Users\\\\rutme\\\\Documents\\\\GitHub\\\\nowaste-project\\\\static\\\\csv\\\\allfinaldata.csv')\n",
    "df.drop(columns=['Year'])\n",
    "df\n"
   ]
  },
  {
   "cell_type": "code",
   "execution_count": 8,
   "metadata": {},
   "outputs": [],
   "source": [
    "#multilinear regression = mlr\n",
    "mlr_y = df['Food waste per person in pounds']\n",
    "mlr_x = df[['Income Diversity Index', 'RacialDiversityIndex', 'Poverty Rate']]\n"
   ]
  },
  {
   "cell_type": "code",
   "execution_count": 9,
   "metadata": {},
   "outputs": [
    {
     "output_type": "execute_result",
     "data": {
      "text/plain": "array([11.13587855,  3.33139953,  7.07435247,  4.14820526, 13.52353712,\n       11.13669594,  5.78205458,  6.59621464,  3.8216367 , 10.60918547,\n       23.32017492, 22.31978269, 11.20692743,  2.35669595, 11.93683851,\n       20.21965073, 22.3653655 , 17.1379341 , 17.89046476,  7.52338433,\n        7.65914597, 12.08719959,  2.53615663, 25.44670764, 22.61242073,\n       19.58174506, 23.91424939, 24.9181954 , 29.47675343, 27.20091437,\n       26.36052432, 16.49758414, 15.50804124])"
     },
     "metadata": {},
     "execution_count": 9
    }
   ],
   "source": [
    "ml_regression = LinearRegression()\n",
    "ml_regression.fit(mlr_x, mlr_y)\n",
    "\n",
    "y_pred = ml_regression.predict(mlr_x)\n",
    "y_pred "
   ]
  },
  {
   "cell_type": "code",
   "execution_count": 10,
   "metadata": {
    "tags": []
   },
   "outputs": [
    {
     "output_type": "stream",
     "name": "stdout",
     "text": "Intercept: \n 21.15629992163536\nCoefficients: \n [ -3.49878164  33.34491193 -32.06095594]\n"
    }
   ],
   "source": [
    "print('Intercept: \\n', ml_regression.intercept_)\n",
    "print('Coefficients: \\n', ml_regression.coef_)"
   ]
  },
  {
   "cell_type": "code",
   "execution_count": null,
   "metadata": {},
   "outputs": [],
   "source": []
  }
 ]
}